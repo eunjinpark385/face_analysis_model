{
 "cells": [
  {
   "cell_type": "markdown",
   "metadata": {
    "id": "nPP8tg4V6635"
   },
   "source": [
    "#**1. Drive Mount**"
   ]
  },
  {
   "cell_type": "markdown",
   "metadata": {
    "id": "dCupOeHB8E1G"
   },
   "source": [
    "# **2. Library Import**"
   ]
  },
  {
   "cell_type": "code",
   "execution_count": 4,
   "metadata": {
    "id": "Bs64n9RB8IBG"
   },
   "outputs": [],
   "source": [
    "import os\n",
    "import shutil"
   ]
  },
  {
   "cell_type": "markdown",
   "metadata": {
    "id": "QoMOkd648KjI"
   },
   "source": [
    "# **3. Combine Code**"
   ]
  },
  {
   "cell_type": "code",
   "execution_count": null,
   "metadata": {},
   "outputs": [],
   "source": [
    "# 필터링 할 확장자 리스트 정의\n",
    "# jpg, jpeg, png 확장자 이미지만 필터링\n",
    "vaild_extensions = ['.jpg', '.jpeg', '.png']\n",
    "\n",
    "# 데이터셋 디렉토리 경로\n",
    "base_dir = 'FaceShape Dataset'\n",
    "\n",
    "# 폴더 내 각 얼굴형 폴더들을 순회하며 이미지 필터링\n",
    "for shape_folder in os.listdir(base_dir):\n",
    "  # 현재 디렉토리 내 폴더 경로 설정\n",
    "  folder_path = os.path.join(base_dir, shape_folder)\n",
    "  # 해당 경로가 폴더인지 확인하여 폴더인 경우에만 진행\n",
    "  if os.path.isdir(folder_path):\n",
    "    # 폴더 내 각 파일을 순회\n",
    "    for filename in os.listdir(folder_path):\n",
    "      # 확장자 검사\n",
    "      if not any(filename.lower().endswith(ext) for ext in vaild_extensions):\n",
    "        # 유효하지 않은 파일 삭제\n",
    "        file_path = os.path.join(folder_path, filename)\n",
    "        os.remove(file_path)\n",
    "        print(f\"Deleted: {file_path}\")\n",
    "\n",
    "print ('Done')"
   ]
  },
  {
   "cell_type": "markdown",
   "metadata": {
    "id": "NpiGrka-Bv5t"
   },
   "source": [
    "# **4. File selection**"
   ]
  },
  {
   "cell_type": "code",
   "execution_count": 1,
   "metadata": {
    "id": "8qRaApQ_BXN3"
   },
   "outputs": [],
   "source": [
    "# 필터링 할 확장자 리스트 정의\n",
    "# jpg, jpeg, png 확장자 이미지만 필터링\n",
    "vaild_extensions = ['.jpg', '.jpeg', '.png']"
   ]
  },
  {
   "cell_type": "code",
   "execution_count": 2,
   "metadata": {
    "id": "qXseRkeQBZa9"
   },
   "outputs": [],
   "source": [
    "# 데이터셋 디렉토리 경로\n",
    "base_dir = 'FaceShape Dataset'"
   ]
  },
  {
   "cell_type": "code",
   "execution_count": 5,
   "metadata": {
    "colab": {
     "base_uri": "https://localhost:8080/"
    },
    "id": "BtYOIqleBZ8l",
    "outputId": "eeb3de06-ffb3-4021-f817-e85e0583f069"
   },
   "outputs": [
    {
     "name": "stdout",
     "output_type": "stream",
     "text": [
      "Done\n"
     ]
    }
   ],
   "source": [
    "# 폴더 내 각 얼굴형 폴더들을 순회하며 이미지 필터링\n",
    "for shape_folder in os.listdir(base_dir):\n",
    "  # 현재 디렉토리 내 폴더 경로 설정\n",
    "  folder_path = os.path.join(base_dir, shape_folder)\n",
    "  # 해당 경로가 폴더인지 확인하여 폴더인 경우에만 진행\n",
    "  if os.path.isdir(folder_path):\n",
    "    # 폴더 내 각 파일을 순회\n",
    "    for filename in os.listdir(folder_path):\n",
    "      # 확장자 검사\n",
    "      if not any(filename.lower().endswith(ext) for ext in vaild_extensions):\n",
    "        # 유효하지 않은 파일 삭제\n",
    "        file_path = os.path.join(folder_path, filename)\n",
    "        os.remove(file_path)\n",
    "        print(f\"Deleted: {file_path}\")\n",
    "\n",
    "print ('Done')"
   ]
  },
  {
   "cell_type": "code",
   "execution_count": 6,
   "metadata": {
    "colab": {
     "base_uri": "https://localhost:8080/"
    },
    "id": "Ly3ZFUSrC1pv",
    "outputId": "08430a43-d798-4eee-b353-e22f480151d7"
   },
   "outputs": [
    {
     "name": "stdout",
     "output_type": "stream",
     "text": [
      "folder: Oblong\n",
      "folder: Oval\n",
      "folder: Round\n",
      "folder: Square\n",
      "Total FIle Count : 4703\n",
      "Vaild File Count : 4703\n",
      "Done\n"
     ]
    }
   ],
   "source": [
    "# 전체 파일 개수\n",
    "total_file_count = 0\n",
    "# 유효 파일 개수\n",
    "vaild_file_count = 0\n",
    "\n",
    "for shape_folder in os.listdir(base_dir):\n",
    "  # 현재 디렉토리 내 폴더 경로 설정\n",
    "  folder_path = os.path.join(base_dir, shape_folder)\n",
    "  if os.path.isdir(folder_path):\n",
    "    # 해당 폴더의 파일들 읽어옴\n",
    "    files = os.listdir(folder_path)\n",
    "    # 해당 폴더의 파일 개수 세기\n",
    "    folder_file_count = len(files)\n",
    "    # 전체 파일 개수에 저장\n",
    "    total_file_count += folder_file_count\n",
    "    # 현재 경로의 폴더명 출력\n",
    "    print(f\"folder: {shape_folder}\")\n",
    "    # 현재 경로의 파일 개수만큼 순회\n",
    "    for filename in os.listdir(folder_path):\n",
    "      # 유효 확장자에 속하는지 검사\n",
    "      if any(filename.lower().endswith(ext) for ext in vaild_extensions):\n",
    "        # 유효 파일 개수 증가\n",
    "        vaild_file_count += 1\n",
    "      else:\n",
    "        print(f\"Invaild FIle : {filename}\")\n",
    "\n",
    "# 출력\n",
    "print(f\"Total FIle Count : {total_file_count}\")\n",
    "print(f\"Vaild File Count : {vaild_file_count}\")\n",
    "print(\"Done\")"
   ]
  },
  {
   "cell_type": "markdown",
   "metadata": {
    "id": "Ao_PgvjGG0YS"
   },
   "source": [
    "# **5. Change File Name**"
   ]
  },
  {
   "cell_type": "code",
   "execution_count": 7,
   "metadata": {
    "id": "vNBIQEhaG8vw"
   },
   "outputs": [],
   "source": [
    "# 각 폴더별 파일 이름 변경\n",
    "for shape_folder in os.listdir(base_dir):\n",
    "  folder_path = os.path.join(base_dir, shape_folder)\n",
    "  if os.path.isdir(folder_path):\n",
    "    for idx, filename in enumerate(os.listdir(folder_path)):\n",
    "      # 파일 확장자 가져오기\n",
    "      file_extension = os.path.splitext(filename)[1].lower()\n",
    "\n",
    "      # 새 파일명 작성 (형식 : [face_shape]_[번호].jpg, 예 : Heart_0001.jpg)\n",
    "      new_filename = f\"{shape_folder}_{idx:04d}{file_extension}\"\n",
    "      old_file_path = os.path.join(folder_path, filename)\n",
    "      new_file_path = os.path.join(folder_path, new_filename)\n",
    "\n",
    "      # 파일 이름 변경\n",
    "      os.rename(old_file_path, new_file_path)"
   ]
  },
  {
   "cell_type": "code",
   "execution_count": 8,
   "metadata": {
    "colab": {
     "base_uri": "https://localhost:8080/"
    },
    "id": "KZbH1YcBJjYh",
    "outputId": "d9feed9c-2d54-4494-c307-da6e41f01b28"
   },
   "outputs": [
    {
     "name": "stdout",
     "output_type": "stream",
     "text": [
      "Folder : Oblong\n",
      "file name : Oblong_0000.jpg\n",
      "file name : Oblong_0001.jpg\n",
      "file name : Oblong_0002.jpg\n",
      "file name : Oblong_0003.jpg\n",
      "file name : Oblong_0004.jpg\n",
      "file name : Oblong_0005.jpg\n",
      "file name : Oblong_0006.jpg\n",
      "file name : Oblong_0007.jpg\n",
      "file name : Oblong_0008.jpg\n",
      "file name : Oblong_0009.jpg\n",
      "Folder : Oval\n",
      "file name : Oval_0000.jpg\n",
      "file name : Oval_0001.jpg\n",
      "file name : Oval_0002.jpg\n",
      "file name : Oval_0003.jpg\n",
      "file name : Oval_0004.jpg\n",
      "file name : Oval_0005.jpg\n",
      "file name : Oval_0006.jpg\n",
      "file name : Oval_0007.jpg\n",
      "file name : Oval_0008.jpg\n",
      "file name : Oval_0009.jpg\n",
      "Folder : Round\n",
      "file name : Round_0000.jpg\n",
      "file name : Round_0001.jpg\n",
      "file name : Round_0002.jpg\n",
      "file name : Round_0003.jpg\n",
      "file name : Round_0004.jpg\n",
      "file name : Round_0005.jpg\n",
      "file name : Round_0006.jpg\n",
      "file name : Round_0007.jpg\n",
      "file name : Round_0008.jpg\n",
      "file name : Round_0009.jpg\n",
      "Folder : Square\n",
      "file name : Square_0000.jpg\n",
      "file name : Square_0001.jpg\n",
      "file name : Square_0002.jpg\n",
      "file name : Square_0003.jpg\n",
      "file name : Square_0004.jpg\n",
      "file name : Square_0005.jpg\n",
      "file name : Square_0006.jpg\n",
      "file name : Square_0007.jpg\n",
      "file name : Square_0008.jpg\n",
      "file name : Square_0009.jpg\n"
     ]
    }
   ],
   "source": [
    "for shape_folder in os.listdir(base_dir):\n",
    "  folder_path = os.path.join(base_dir, shape_folder)\n",
    "  # 폴더 경로가 맞으면\n",
    "  if os.path.isdir(folder_path):\n",
    "    # 현재 폴더명 출력\n",
    "    print(f'Folder : {shape_folder}')\n",
    "    # 해당 폴더의 파일명 가져옴\n",
    "    filenames = os.listdir(folder_path)\n",
    "    # 첫 10개의 파일만 출력\n",
    "    for filename in filenames[:10]:\n",
    "      print(f'file name : {filename}')"
   ]
  },
  {
   "cell_type": "code",
   "execution_count": null,
   "metadata": {},
   "outputs": [
    {
     "name": "stdout",
     "output_type": "stream",
     "text": [
      "Class 'Oblong' split: 910 train, 228 test\n",
      "Class 'Oval' split: 910 train, 228 test\n",
      "Class 'Round' split: 910 train, 228 test\n",
      "Class 'Square' split: 910 train, 228 test\n",
      "Data split completed!\n"
     ]
    }
   ],
   "source": [
    "# import os\n",
    "# import shutil\n",
    "# from sklearn.model_selection import train_test_split\n",
    "\n",
    "# # 데이터 경로 설정\n",
    "# data_dir = 'FaceShape Dataset'\n",
    "# train_dir = 'FaceShapeTrain'\n",
    "# test_dir = 'FaceShapeTest'\n",
    "\n",
    "# # Train/Test 폴더 생성\n",
    "# os.makedirs(train_dir, exist_ok=True)\n",
    "# os.makedirs(test_dir, exist_ok=True)\n",
    "\n",
    "# # 클래스별 최소 데이터 개수 확인\n",
    "# min_images = float('inf')\n",
    "\n",
    "# for class_name in os.listdir(data_dir):\n",
    "#     class_path = os.path.join(data_dir, class_name)\n",
    "#     if os.path.isdir(class_path):\n",
    "#         images = [f for f in os.listdir(class_path) if os.path.isfile(os.path.join(class_path, f))]\n",
    "#         min_images = min(min_images, len(images))\n",
    "\n",
    "# # 클래스별로 최소 데이터 개수만큼 나누기\n",
    "# for class_name in os.listdir(data_dir):\n",
    "#     class_path = os.path.join(data_dir, class_name)\n",
    "#     if os.path.isdir(class_path):\n",
    "#         images = [f for f in os.listdir(class_path) if os.path.isfile(os.path.join(class_path, f))]\n",
    "        \n",
    "#         # 최소 데이터 개수만큼만 사용\n",
    "#         images = images[:min_images]\n",
    "\n",
    "#         # Train/Test 데이터 분리\n",
    "#         train_images, test_images = train_test_split(images, test_size=0.2, random_state=42)\n",
    "\n",
    "#         # 클래스별 Train/Test 폴더 생성\n",
    "#         train_class_dir = os.path.join(train_dir, class_name)\n",
    "#         test_class_dir = os.path.join(test_dir, class_name)\n",
    "#         os.makedirs(train_class_dir, exist_ok=True)\n",
    "#         os.makedirs(test_class_dir, exist_ok=True)\n",
    "\n",
    "#         # Train 데이터 복사\n",
    "#         for img in train_images:\n",
    "#             src = os.path.join(class_path, img)\n",
    "#             dst = os.path.join(train_class_dir, img)\n",
    "#             shutil.copy(src, dst)\n",
    "\n",
    "#         # Test 데이터 복사\n",
    "#         for img in test_images:\n",
    "#             src = os.path.join(class_path, img)\n",
    "#             dst = os.path.join(test_class_dir, img)\n",
    "#             shutil.copy(src, dst)\n",
    "\n",
    "#         print(f\"Class '{class_name}' split: {len(train_images)} train, {len(test_images)} test\")\n",
    "\n",
    "# print(\"Data split completed!\")"
   ]
  }
 ],
 "metadata": {
  "accelerator": "GPU",
  "colab": {
   "gpuType": "A100",
   "machine_shape": "hm",
   "provenance": []
  },
  "kernelspec": {
   "display_name": "Python 3",
   "name": "python3"
  },
  "language_info": {
   "codemirror_mode": {
    "name": "ipython",
    "version": 3
   },
   "file_extension": ".py",
   "mimetype": "text/x-python",
   "name": "python",
   "nbconvert_exporter": "python",
   "pygments_lexer": "ipython3",
   "version": "3.10.11"
  }
 },
 "nbformat": 4,
 "nbformat_minor": 0
}
